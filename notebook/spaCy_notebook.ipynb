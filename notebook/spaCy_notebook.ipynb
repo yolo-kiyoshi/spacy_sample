{
 "cells": [
  {
   "cell_type": "code",
   "execution_count": 2,
   "metadata": {},
   "outputs": [],
   "source": [
    "from spacy.lang.ja import Japanese"
   ]
  },
  {
   "cell_type": "code",
   "execution_count": 5,
   "metadata": {},
   "outputs": [],
   "source": [
    "# 分かち書き対象\n",
    "text = '今日は炎天下の中、国会議員とjavaでコーディングしながらご飯を食べた。'"
   ]
  },
  {
   "cell_type": "code",
   "execution_count": 6,
   "metadata": {},
   "outputs": [
    {
     "name": "stdout",
     "output_type": "stream",
     "text": [
      "text:今日, pos:NOUN, tag:名詞-普通名詞-副詞可能, lemma:今日\n",
      "text:は, pos:ADP, tag:助詞-係助詞, lemma:は\n",
      "text:炎天, pos:NOUN, tag:名詞-普通名詞-一般, lemma:炎天\n",
      "text:下, pos:NOUN, tag:接尾辞-名詞的-副詞可能, lemma:下\n",
      "text:の, pos:ADP, tag:助詞-格助詞, lemma:の\n",
      "text:中, pos:NOUN, tag:名詞-普通名詞-副詞可能, lemma:中\n",
      "text:、, pos:PUNCT, tag:補助記号-読点, lemma:、\n",
      "text:国会, pos:NOUN, tag:名詞-普通名詞-一般, lemma:国会\n",
      "text:議員, pos:NOUN, tag:名詞-普通名詞-一般, lemma:議員\n",
      "text:と, pos:ADP, tag:助詞-格助詞, lemma:と\n",
      "text:java, pos:NOUN, tag:名詞-普通名詞-一般, lemma:Java\n",
      "text:で, pos:ADP, tag:助詞-格助詞, lemma:で\n",
      "text:コーディング, pos:NOUN, tag:名詞-普通名詞-一般, lemma:コーディング\n",
      "text:し, pos:AUX, tag:動詞-非自立可能, lemma:する\n",
      "text:ながら, pos:SCONJ, tag:助詞-接続助詞, lemma:ながら\n",
      "text:ご飯, pos:NOUN, tag:名詞-普通名詞-一般, lemma:ご飯\n",
      "text:を, pos:ADP, tag:助詞-格助詞, lemma:を\n",
      "text:食べ, pos:VERB, tag:動詞-一般, lemma:食べる\n",
      "text:た, pos:AUX, tag:助動詞, lemma:た\n",
      "text:。, pos:PUNCT, tag:補助記号-句点, lemma:。\n"
     ]
    }
   ],
   "source": [
    "# SudachiPy with split mode A\n",
    "nlp = Japanese()\n",
    "for w in nlp(text):\n",
    "    print(f'text:{w.text}, pos:{w.pos_}, tag:{w.tag_}, lemma:{w.lemma_}')"
   ]
  },
  {
   "cell_type": "code",
   "execution_count": 7,
   "metadata": {},
   "outputs": [
    {
     "name": "stdout",
     "output_type": "stream",
     "text": [
      "text:今日, pos:NOUN, tag:名詞-普通名詞-副詞可能, lemma:今日\n",
      "text:は, pos:ADP, tag:助詞-係助詞, lemma:は\n",
      "text:炎天下, pos:NOUN, tag:名詞-普通名詞-一般, lemma:炎天下\n",
      "text:の, pos:ADP, tag:助詞-格助詞, lemma:の\n",
      "text:中, pos:NOUN, tag:名詞-普通名詞-副詞可能, lemma:中\n",
      "text:、, pos:PUNCT, tag:補助記号-読点, lemma:、\n",
      "text:国会, pos:NOUN, tag:名詞-普通名詞-一般, lemma:国会\n",
      "text:議員, pos:NOUN, tag:名詞-普通名詞-一般, lemma:議員\n",
      "text:と, pos:ADP, tag:助詞-格助詞, lemma:と\n",
      "text:java, pos:NOUN, tag:名詞-普通名詞-一般, lemma:Java\n",
      "text:で, pos:ADP, tag:助詞-格助詞, lemma:で\n",
      "text:コーディング, pos:NOUN, tag:名詞-普通名詞-一般, lemma:コーディング\n",
      "text:し, pos:AUX, tag:動詞-非自立可能, lemma:する\n",
      "text:ながら, pos:SCONJ, tag:助詞-接続助詞, lemma:ながら\n",
      "text:ご飯, pos:NOUN, tag:名詞-普通名詞-一般, lemma:ご飯\n",
      "text:を, pos:ADP, tag:助詞-格助詞, lemma:を\n",
      "text:食べ, pos:VERB, tag:動詞-一般, lemma:食べる\n",
      "text:た, pos:AUX, tag:助動詞, lemma:た\n",
      "text:。, pos:PUNCT, tag:補助記号-句点, lemma:。\n"
     ]
    }
   ],
   "source": [
    "# SudachiPy with split mode B\n",
    "cfg = {\"split_mode\": \"B\"}\n",
    "nlp = Japanese(meta={\"tokenizer\": {\"config\": cfg}})\n",
    "for w in nlp(text):\n",
    "    print(f'text:{w.text}, pos:{w.pos_}, tag:{w.tag_}, lemma:{w.lemma_}')"
   ]
  },
  {
   "cell_type": "code",
   "execution_count": 8,
   "metadata": {},
   "outputs": [
    {
     "name": "stdout",
     "output_type": "stream",
     "text": [
      "text:今日, pos:NOUN, tag:名詞-普通名詞-副詞可能, lemma:今日\n",
      "text:は, pos:ADP, tag:助詞-係助詞, lemma:は\n",
      "text:炎天下, pos:NOUN, tag:名詞-普通名詞-一般, lemma:炎天下\n",
      "text:の, pos:ADP, tag:助詞-格助詞, lemma:の\n",
      "text:中, pos:NOUN, tag:名詞-普通名詞-副詞可能, lemma:中\n",
      "text:、, pos:PUNCT, tag:補助記号-読点, lemma:、\n",
      "text:国会議員, pos:NOUN, tag:名詞-普通名詞-一般, lemma:国会議員\n",
      "text:と, pos:ADP, tag:助詞-格助詞, lemma:と\n",
      "text:java, pos:NOUN, tag:名詞-普通名詞-一般, lemma:Java\n",
      "text:で, pos:ADP, tag:助詞-格助詞, lemma:で\n",
      "text:コーディング, pos:NOUN, tag:名詞-普通名詞-一般, lemma:コーディング\n",
      "text:し, pos:AUX, tag:動詞-非自立可能, lemma:する\n",
      "text:ながら, pos:SCONJ, tag:助詞-接続助詞, lemma:ながら\n",
      "text:ご飯, pos:NOUN, tag:名詞-普通名詞-一般, lemma:ご飯\n",
      "text:を, pos:ADP, tag:助詞-格助詞, lemma:を\n",
      "text:食べ, pos:VERB, tag:動詞-一般, lemma:食べる\n",
      "text:た, pos:AUX, tag:助動詞, lemma:た\n",
      "text:。, pos:PUNCT, tag:補助記号-句点, lemma:。\n"
     ]
    }
   ],
   "source": [
    "# SudachiPy with split mode C\n",
    "cfg = {\"split_mode\": \"C\"}\n",
    "nlp = Japanese(meta={\"tokenizer\": {\"config\": cfg}})\n",
    "for w in nlp(text):\n",
    "    print(f'text:{w.text}, pos:{w.pos_}, tag:{w.tag_}, lemma:{w.lemma_}')"
   ]
  },
  {
   "cell_type": "code",
   "execution_count": 9,
   "metadata": {},
   "outputs": [
    {
     "name": "stdout",
     "output_type": "stream",
     "text": [
      "Collecting ja_core_news_md==2.3.1\n",
      "\u001b[?25l  Downloading https://github.com/explosion/spacy-models/releases/download/ja_core_news_md-2.3.1/ja_core_news_md-2.3.1.tar.gz (38.8MB)\n",
      "\u001b[K     |████████████████████████████████| 38.8MB 875kB/s eta 0:00:01    |█▏                              | 1.4MB 344kB/s eta 0:01:49     |██                              | 2.5MB 576kB/s eta 0:01:03     |███                             | 3.5MB 1.5MB/s eta 0:00:24     |████                            | 4.7MB 613kB/s eta 0:00:56     |███████▌                        | 9.1MB 880kB/s eta 0:00:34     |█████████▏                      | 11.2MB 690kB/s eta 0:00:41     |██████████▏                     | 12.4MB 1.2MB/s eta 0:00:22     |███████████▏                    | 13.6MB 613kB/s eta 0:00:42     |███████████████████             | 22.9MB 813kB/s eta 0:00:20     |█████████████████████████████   | 35.1MB 587kB/s eta 0:00:07     |██████████████████████████████▎ | 36.7MB 1.1MB/s eta 0:00:03\n",
      "\u001b[?25hRequirement already satisfied: spacy<2.4.0,>=2.3.0 in /usr/local/lib/python3.7/site-packages (from ja_core_news_md==2.3.1) (2.3.0)\n",
      "Requirement already satisfied: sudachipy>=0.4.5 in /usr/local/lib/python3.7/site-packages (from ja_core_news_md==2.3.1) (0.4.9)\n",
      "Requirement already satisfied: sudachidict_core>=20200330 in /usr/local/lib/python3.7/site-packages (from ja_core_news_md==2.3.1) (20200330)\n",
      "Requirement already satisfied: murmurhash<1.1.0,>=0.28.0 in /usr/local/lib/python3.7/site-packages (from spacy<2.4.0,>=2.3.0->ja_core_news_md==2.3.1) (1.0.2)\n",
      "Requirement already satisfied: requests<3.0.0,>=2.13.0 in /usr/local/lib/python3.7/site-packages (from spacy<2.4.0,>=2.3.0->ja_core_news_md==2.3.1) (2.24.0)\n",
      "Requirement already satisfied: srsly<1.1.0,>=1.0.2 in /usr/local/lib/python3.7/site-packages (from spacy<2.4.0,>=2.3.0->ja_core_news_md==2.3.1) (1.0.2)\n",
      "Requirement already satisfied: wasabi<1.1.0,>=0.4.0 in /usr/local/lib/python3.7/site-packages (from spacy<2.4.0,>=2.3.0->ja_core_news_md==2.3.1) (0.6.0)\n",
      "Requirement already satisfied: catalogue<1.1.0,>=0.0.7 in /usr/local/lib/python3.7/site-packages (from spacy<2.4.0,>=2.3.0->ja_core_news_md==2.3.1) (1.0.0)\n",
      "Requirement already satisfied: setuptools in /usr/local/lib/python3.7/site-packages (from spacy<2.4.0,>=2.3.0->ja_core_news_md==2.3.1) (42.0.2)\n",
      "Requirement already satisfied: numpy>=1.15.0 in /usr/local/lib/python3.7/site-packages (from spacy<2.4.0,>=2.3.0->ja_core_news_md==2.3.1) (1.18.5)\n",
      "Requirement already satisfied: plac<1.2.0,>=0.9.6 in /usr/local/lib/python3.7/site-packages (from spacy<2.4.0,>=2.3.0->ja_core_news_md==2.3.1) (1.1.3)\n",
      "Requirement already satisfied: thinc==7.4.1 in /usr/local/lib/python3.7/site-packages (from spacy<2.4.0,>=2.3.0->ja_core_news_md==2.3.1) (7.4.1)\n",
      "Requirement already satisfied: preshed<3.1.0,>=3.0.2 in /usr/local/lib/python3.7/site-packages (from spacy<2.4.0,>=2.3.0->ja_core_news_md==2.3.1) (3.0.2)\n",
      "Requirement already satisfied: cymem<2.1.0,>=2.0.2 in /usr/local/lib/python3.7/site-packages (from spacy<2.4.0,>=2.3.0->ja_core_news_md==2.3.1) (2.0.3)\n",
      "Requirement already satisfied: tqdm<5.0.0,>=4.38.0 in /usr/local/lib/python3.7/site-packages (from spacy<2.4.0,>=2.3.0->ja_core_news_md==2.3.1) (4.46.1)\n",
      "Requirement already satisfied: blis<0.5.0,>=0.4.0 in /usr/local/lib/python3.7/site-packages (from spacy<2.4.0,>=2.3.0->ja_core_news_md==2.3.1) (0.4.1)\n",
      "Requirement already satisfied: dartsclone~=0.9.0 in /usr/local/lib/python3.7/site-packages (from sudachipy>=0.4.5->ja_core_news_md==2.3.1) (0.9.0)\n",
      "Requirement already satisfied: sortedcontainers~=2.1.0 in /usr/local/lib/python3.7/site-packages (from sudachipy>=0.4.5->ja_core_news_md==2.3.1) (2.1.0)\n",
      "Requirement already satisfied: certifi>=2017.4.17 in /usr/local/lib/python3.7/site-packages (from requests<3.0.0,>=2.13.0->spacy<2.4.0,>=2.3.0->ja_core_news_md==2.3.1) (2020.4.5.2)\n",
      "Requirement already satisfied: idna<3,>=2.5 in /usr/local/lib/python3.7/site-packages (from requests<3.0.0,>=2.13.0->spacy<2.4.0,>=2.3.0->ja_core_news_md==2.3.1) (2.9)\n",
      "Requirement already satisfied: chardet<4,>=3.0.2 in /usr/local/lib/python3.7/site-packages (from requests<3.0.0,>=2.13.0->spacy<2.4.0,>=2.3.0->ja_core_news_md==2.3.1) (3.0.4)\n",
      "Requirement already satisfied: urllib3!=1.25.0,!=1.25.1,<1.26,>=1.21.1 in /usr/local/lib/python3.7/site-packages (from requests<3.0.0,>=2.13.0->spacy<2.4.0,>=2.3.0->ja_core_news_md==2.3.1) (1.25.9)\n",
      "Requirement already satisfied: importlib-metadata>=0.20; python_version < \"3.8\" in /usr/local/lib/python3.7/site-packages (from catalogue<1.1.0,>=0.0.7->spacy<2.4.0,>=2.3.0->ja_core_news_md==2.3.1) (1.6.1)\n",
      "Requirement already satisfied: Cython in /usr/local/lib/python3.7/site-packages (from dartsclone~=0.9.0->sudachipy>=0.4.5->ja_core_news_md==2.3.1) (0.29.20)\n",
      "Requirement already satisfied: zipp>=0.5 in /usr/local/lib/python3.7/site-packages (from importlib-metadata>=0.20; python_version < \"3.8\"->catalogue<1.1.0,>=0.0.7->spacy<2.4.0,>=2.3.0->ja_core_news_md==2.3.1) (3.1.0)\n",
      "Building wheels for collected packages: ja-core-news-md\n",
      "  Building wheel for ja-core-news-md (setup.py) ... \u001b[?25ldone\n",
      "\u001b[?25h  Created wheel for ja-core-news-md: filename=ja_core_news_md-2.3.1-cp37-none-any.whl size=39028868 sha256=2d54af28568d983fa50956e043a86d3d5eba91c966e26295726ebe01d0e98055\n",
      "  Stored in directory: /tmp/pip-ephem-wheel-cache-tpw36lsz/wheels/5e/3c/e2/f15e974be2d7ab2420d666571207fa8e18cebc1ce7de3201cb\n",
      "Successfully built ja-core-news-md\n",
      "Installing collected packages: ja-core-news-md\n",
      "Successfully installed ja-core-news-md-2.3.1\n",
      "\u001b[33mWARNING: You are using pip version 19.3.1; however, version 20.1.1 is available.\n",
      "You should consider upgrading via the 'pip install --upgrade pip' command.\u001b[0m\n",
      "\u001b[38;5;2m✔ Download and installation successful\u001b[0m\n",
      "You can now load the model via spacy.load('ja_core_news_md')\n",
      "\u001b[38;5;2m✔ Linking successful\u001b[0m\n",
      "/usr/local/lib/python3.7/site-packages/ja_core_news_md -->\n",
      "/usr/local/lib/python3.7/site-packages/spacy/data/ja\n",
      "You can now load the model via spacy.load('ja')\n"
     ]
    }
   ],
   "source": [
    "!python -m spacy download ja_core_news_md\n",
    "!python -m spacy link --force ja_core_news_md ja"
   ]
  },
  {
   "cell_type": "code",
   "execution_count": 11,
   "metadata": {},
   "outputs": [
    {
     "name": "stdout",
     "output_type": "stream",
     "text": [
      "text:今日, pos:NOUN, tag:名詞-普通名詞-副詞可能, lemma:今日\n",
      "text:は, pos:ADP, tag:助詞-係助詞, lemma:は\n",
      "text:炎天, pos:NOUN, tag:名詞-普通名詞-一般, lemma:炎天\n",
      "text:下, pos:NOUN, tag:接尾辞-名詞的-副詞可能, lemma:下\n",
      "text:の, pos:ADP, tag:助詞-格助詞, lemma:の\n",
      "text:中, pos:NOUN, tag:名詞-普通名詞-副詞可能, lemma:中\n",
      "text:、, pos:PUNCT, tag:補助記号-読点, lemma:、\n",
      "text:国会, pos:NOUN, tag:名詞-普通名詞-一般, lemma:国会\n",
      "text:議員, pos:NOUN, tag:名詞-普通名詞-一般, lemma:議員\n",
      "text:と, pos:ADP, tag:助詞-格助詞, lemma:と\n",
      "text:java, pos:NOUN, tag:名詞-普通名詞-一般, lemma:Java\n",
      "text:で, pos:ADP, tag:助詞-格助詞, lemma:で\n",
      "text:コーディング, pos:NOUN, tag:名詞-普通名詞-一般, lemma:コーディング\n",
      "text:し, pos:AUX, tag:動詞-非自立可能, lemma:する\n",
      "text:ながら, pos:SCONJ, tag:助詞-接続助詞, lemma:ながら\n",
      "text:ご飯, pos:NOUN, tag:名詞-普通名詞-一般, lemma:ご飯\n",
      "text:を, pos:ADP, tag:助詞-格助詞, lemma:を\n",
      "text:食べ, pos:VERB, tag:動詞-一般, lemma:食べる\n",
      "text:た, pos:AUX, tag:助動詞, lemma:た\n",
      "text:。, pos:PUNCT, tag:補助記号-句点, lemma:。\n"
     ]
    }
   ],
   "source": [
    "import spacy\n",
    "\n",
    "nlp = spacy.load('ja')\n",
    "for w in nlp(text):\n",
    "    print(f'text:{w.text}, pos:{w.pos_}, tag:{w.tag_}, lemma:{w.lemma_}')"
   ]
  },
  {
   "cell_type": "code",
   "execution_count": 12,
   "metadata": {},
   "outputs": [],
   "source": [
    "word_dict = {}\n",
    "for w in nlp(text):\n",
    "    word_dict[w.text] = w"
   ]
  },
  {
   "cell_type": "code",
   "execution_count": 15,
   "metadata": {},
   "outputs": [
    {
     "data": {
      "text/plain": [
       "0.73714477"
      ]
     },
     "execution_count": 15,
     "metadata": {},
     "output_type": "execute_result"
    }
   ],
   "source": [
    "word_dict['国会'].similarity(word_dict['議員'])"
   ]
  },
  {
   "cell_type": "code",
   "execution_count": 19,
   "metadata": {},
   "outputs": [
    {
     "data": {
      "text/plain": [
       "0.12613997"
      ]
     },
     "execution_count": 19,
     "metadata": {},
     "output_type": "execute_result"
    }
   ],
   "source": [
    "word_dict['今日'].similarity(word_dict['国会'])"
   ]
  },
  {
   "cell_type": "code",
   "execution_count": 20,
   "metadata": {},
   "outputs": [
    {
     "name": "stderr",
     "output_type": "stream",
     "text": [
      "/usr/local/lib/python3.7/site-packages/ipykernel_launcher.py:1: UserWarning: [W008] Evaluating Token.similarity based on empty vectors.\n",
      "  \"\"\"Entry point for launching an IPython kernel.\n"
     ]
    },
    {
     "data": {
      "text/plain": [
       "0.0"
      ]
     },
     "execution_count": 20,
     "metadata": {},
     "output_type": "execute_result"
    }
   ],
   "source": [
    "word_dict['java'].similarity(word_dict['国会'])"
   ]
  }
 ],
 "metadata": {
  "kernelspec": {
   "display_name": "Python 3",
   "language": "python",
   "name": "python3"
  },
  "language_info": {
   "codemirror_mode": {
    "name": "ipython",
    "version": 3
   },
   "file_extension": ".py",
   "mimetype": "text/x-python",
   "name": "python",
   "nbconvert_exporter": "python",
   "pygments_lexer": "ipython3",
   "version": "3.7.6"
  }
 },
 "nbformat": 4,
 "nbformat_minor": 4
}
